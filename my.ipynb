{
 "cells": [
  {
   "metadata": {},
   "cell_type": "markdown",
   "source": "",
   "id": "db97ff30b4b0ea2d"
  },
  {
   "cell_type": "code",
   "id": "initial_id",
   "metadata": {
    "collapsed": true,
    "ExecuteTime": {
     "end_time": "2024-11-06T09:19:21.914448Z",
     "start_time": "2024-11-06T09:19:21.902336Z"
    }
   },
   "source": [
    "import warnings\n",
    "\n",
    "from parso.python.tree import Lambda\n",
    "from scipy.optimize import minimize\n",
    "import numpy as np\n",
    "import pandas as pd\n",
    "import matplotlib.pyplot as plt\n",
    "plt.style.use('seaborn-v0_8')\n",
    "warnings.filterwarnings('ignore')\n",
    "import yfinance as yf\n"
   ],
   "outputs": [],
   "execution_count": 4
  },
  {
   "metadata": {
    "ExecuteTime": {
     "end_time": "2024-11-06T09:24:36.308243Z",
     "start_time": "2024-11-06T09:24:35.779612Z"
    }
   },
   "cell_type": "code",
   "source": [
    "# Importation of data\n",
    "list_tickers = [\"META\", \"NFLX\", \"TSLA\"]\n",
    "database = yf.download(list_tickers)\n",
    "\n",
    "# Take only the adjusted stock price\n",
    "database = database[\"Adj Close\"]\n",
    "\n",
    "# Drop missing value\n",
    "data = database.dropna().pct_change(1).dropna()\n"
   ],
   "id": "e5596503db11e11f",
   "outputs": [
    {
     "name": "stderr",
     "output_type": "stream",
     "text": [
      "[*********************100%***********************]  3 of 3 completed\n"
     ]
    }
   ],
   "execution_count": 9
  },
  {
   "metadata": {},
   "cell_type": "markdown",
   "source": [
    "**Mean variance optimization**\n",
    "\n"
   ],
   "id": "6c3c2a094e073038"
  },
  {
   "metadata": {},
   "cell_type": "code",
   "outputs": [],
   "execution_count": null,
   "source": [
    "def MV_criterion(weights, data):\n",
    "    \"\"\"\n",
    "    \n",
    "    :param weights: (type ndarray numpy): Weight for portfolio\n",
    "    :param data: (type ndarray numpy): Returns of stock\n",
    "    :return: optimization portfolio criterion.\n",
    "    \"\"\"\n",
    "    # parameter\n",
    "    Lambda = 3\n",
    "    W = 1\n",
    "    Wbar = 1 + 0.25 / 100\n",
    "    \n",
    "    # Compute portfolio returns \n",
    "    portfolio_return = np.multiply(data, np.transpose(weights))\n",
    "    portfolio_return = portfolio_return.sum()\n",
    "\n",
    "    # Compute mean and volatility of the portfolio\n",
    "    mean = np.mean(portfolio_return, axis=0)\n",
    "    std = np.std(portfolio_return, axis=0)\n",
    "    \n",
    "    # Compute the criterion\n",
    "    criterion = Wbar ** (1 - Lambda) / (1 + Lambda) + Wbar ** (-Lambda) \\\n",
    "                * W * mean - Lambda / 2 * Wbar ** (-1 - Lambda) * W ** 2 * std ** 2\n",
    "    criterion = -criterion\n",
    "    \n",
    "    return criterion\n",
    "    "
   ],
   "id": "18bbe4e0be59569a"
  },
  {
   "metadata": {},
   "cell_type": "markdown",
   "source": "",
   "id": "788cbbcf228f6e36"
  }
 ],
 "metadata": {
  "kernelspec": {
   "display_name": "Python 3",
   "language": "python",
   "name": "python3"
  },
  "language_info": {
   "codemirror_mode": {
    "name": "ipython",
    "version": 2
   },
   "file_extension": ".py",
   "mimetype": "text/x-python",
   "name": "python",
   "nbconvert_exporter": "python",
   "pygments_lexer": "ipython2",
   "version": "2.7.6"
  }
 },
 "nbformat": 4,
 "nbformat_minor": 5
}
